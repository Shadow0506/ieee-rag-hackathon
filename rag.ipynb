{
 "cells": [
  {
   "cell_type": "code",
   "execution_count": 1,
   "metadata": {},
   "outputs": [],
   "source": [
    "from pypdf import PdfReader"
   ]
  },
  {
   "cell_type": "code",
   "execution_count": 2,
   "metadata": {},
   "outputs": [],
   "source": [
    "def extract_text_from_pdf(pdf_path):\n",
    "    # Path to the PDF file\n",
    "    pdf_path = 'data/Finance Project (Final).pdf'\n",
    "\n",
    "    # Create a PdfReader object\n",
    "    reader = PdfReader(pdf_path)\n",
    "\n",
    "    # Initialize a string to hold all the extracted text\n",
    "    extracted_text = \"\"\n",
    "\n",
    "    # Loop through each page and extract text\n",
    "    for page in reader.pages:\n",
    "        extracted_text += page.extract_text()\n",
    "\n",
    "    # Print the extracted text\n",
    "    # with open('extracted_text.txt', 'w') as text_file:\n",
    "        # text_file.write(extracted_text)\n",
    "\n",
    "    return extracted_text"
   ]
  },
  {
   "cell_type": "code",
   "execution_count": 3,
   "metadata": {},
   "outputs": [],
   "source": [
    "pdf_path = 'data/Finance Project (Final).pdf'\n",
    "text = extract_text_from_pdf(pdf_path)"
   ]
  },
  {
   "cell_type": "code",
   "execution_count": 4,
   "metadata": {},
   "outputs": [
    {
     "data": {
      "text/plain": [
       "116975"
      ]
     },
     "execution_count": 4,
     "metadata": {},
     "output_type": "execute_result"
    }
   ],
   "source": [
    "len(text)"
   ]
  },
  {
   "cell_type": "code",
   "execution_count": 8,
   "metadata": {},
   "outputs": [
    {
     "name": "stdout",
     "output_type": "stream",
     "text": [
      "Split 1 documents into 371 chunks.\n"
     ]
    }
   ],
   "source": [
    "from langchain_text_splitters import RecursiveCharacterTextSplitter\n",
    "import os\n",
    "from langchain_community.document_loaders import TextLoader\n",
    "\n",
    "text_splitter = RecursiveCharacterTextSplitter(\n",
    "    chunk_size=500,\n",
    "    chunk_overlap=200,\n",
    "    length_function=len,\n",
    "    add_start_index=True,\n",
    ")\n",
    "\n",
    "documents = []\n",
    "\n",
    "loader = TextLoader(os.path.join('./', 'extracted_text.txt'), encoding=\"utf-8\")\n",
    "documents.extend(loader.load())\n",
    "\n",
    "chunks = text_splitter.split_documents(documents)\n",
    "print(f\"Split {len(documents)} documents into {len(chunks)} chunks.\")"
   ]
  },
  {
   "cell_type": "code",
   "execution_count": 9,
   "metadata": {},
   "outputs": [],
   "source": [
    "# from sentence_transformers import SentenceTransformer, util\n",
    "\n",
    "# model = SentenceTransformer('all-MiniLM-L6-v2')"
   ]
  },
  {
   "cell_type": "code",
   "execution_count": 20,
   "metadata": {},
   "outputs": [
    {
     "name": "stdout",
     "output_type": "stream",
     "text": [
      "[[0.014475906267762184, 0.07228005677461624, -0.021847398951649666, 0.027838347479701042, -0.032556332647800446, 0.03891464322805405, 0.13196884095668793, 0.04014265537261963, 0.11188974976539612, -0.04175683110952377, 0.04023201763629913, 0.057262271642684937, 0.014718607068061829, -0.002374015748500824, 0.000651488546282053, 0.01911281980574131, 0.07063929736614227, -0.04581274092197418, -0.08963267505168915, -0.053711023181676865, 0.019062379375100136, 0.07670910656452179, 0.03966069966554642, 0.041070178151130676, -0.002009959891438484, 0.12502677738666534, -0.1073010042309761, 0.06206385791301727, 0.04361991956830025, -0.04085909575223923, -0.04527280852198601, 0.03711407259106636, 0.14580844342708588, 0.03468615189194679, -0.04757186397910118, 0.009284678846597672, -0.026461714878678322, 0.027106789872050285, -0.01844361238181591, 0.00240807025693357, -0.031192444264888763, -0.10679488629102707, 0.004846959374845028, 0.01772296614944935, 0.07387688010931015, -0.02600938268005848, -0.042882028967142105, 0.013543657027184963, 0.024877872318029404, 0.05935836583375931, -0.03690028935670853, -0.05450380966067314, -0.051444582641124725, 0.01647805981338024, -0.020982244983315468, 0.07072395086288452, 0.017505105584859848, 0.023984046652913094, 0.02456521801650524, -0.0038363970816135406, 0.028636710718274117, 0.022263024002313614, -0.01137821190059185, 0.05782996863126755, 0.04911873862147331, -0.011821120046079159, -0.025163091719150543, 0.04594831168651581, -0.11566077917814255, -0.026051972061395645, 0.02077430672943592, -0.004686310887336731, 0.0362418070435524, 0.09511203318834305, 0.02039525657892227, -0.044297926127910614, -0.015473323874175549, -0.07091489434242249, 0.05856356769800186, 0.0359627828001976, -0.02381765842437744, -0.021423770114779472, 0.0651203989982605, 0.08304537087678909, 0.035300932824611664, 0.03405160456895828, 0.0320434644818306, 0.020918041467666626, -0.04188918322324753, 0.0013749368954449892, 0.007375524379312992, -0.06302356719970703, 0.09359786659479141, -0.008962663821876049, -0.16742999851703644, 0.04877065122127533, -0.04949241131544113, -0.09482938796281815, -0.017637118697166443, 0.216286763548851, 0.015315743163228035, -0.010374833829700947, 0.03079989366233349, 0.007383720483630896, -0.05601120740175247, -0.05085066333413124, 0.054798346012830734, -0.02586541138589382, 0.01721991039812565, -0.05552543327212334, 0.02043052949011326, -0.07325085252523422, -0.12026892602443695, -0.052008092403411865, -0.02168753743171692, -0.08740885555744171, 0.007366797421127558, -0.030543887987732887, 0.06653468310832977, 0.04344857856631279, -0.045141659677028656, -0.03722565621137619, -0.06342685967683792, 0.0072012776508927345, -0.06362858414649963, -0.05627364292740822, 0.06513499468564987, -4.2506235720878856e-33, 0.026117276400327682, -0.0013092306908220053, 0.040829360485076904, 0.09775551408529282, -0.015626370906829834, 0.05545337125658989, -0.08452560752630234, -0.06111666187644005, -0.02447107434272766, -0.0018363225972279906, 0.011364875361323357, -0.03565854951739311, -0.0045732432045042515, -0.0010438894387334585, 0.07126975804567337, -0.07238121330738068, -0.03445475175976753, 0.048313990235328674, 0.025725852698087692, -0.035217348486185074, -0.056693047285079956, 0.032766979187726974, 0.04731297492980957, -0.0006459851283580065, -0.011480490677058697, 0.019029248505830765, 0.0037146778777241707, -0.06629549711942673, -0.027325721457600594, -0.0037458951119333506, -0.03224721923470497, 0.008591214194893837, 0.08421754837036133, -0.05517703294754028, -0.022773869335651398, 0.02261919341981411, -0.004239798989146948, -0.057109534740448, 0.041948411613702774, 0.00023369367409031838, -0.034004729241132736, -0.006483099423348904, 0.03165917843580246, -0.09941678494215012, 0.003516394179314375, 0.07508858293294907, 0.0026210579089820385, 0.006394847761839628, -0.06942015886306763, -0.0273902490735054, 0.010883557610213757, 0.0341731533408165, -0.008228878490626812, -0.013065330684185028, 0.04187329486012459, -0.017472708597779274, 0.002897204365581274, 0.0071286167949438095, -0.0174198467284441, 0.04826543480157852, 0.03327077627182007, 0.051174044609069824, 0.04169779270887375, 0.005527237895876169, 0.006414066068828106, -0.03806639090180397, -0.03881848603487015, -0.08938076347112656, 0.07063222676515579, -0.0497913584113121, -0.0979352742433548, -0.03895808011293411, 0.004482580814510584, 0.00010541154188103974, -0.056358642876148224, 0.027326377108693123, -0.004003340378403664, -0.02180875837802887, -0.04402071610093117, 0.023977652192115784, -0.041165791451931, -0.11033827066421509, 0.04195738956332207, -0.01047886349260807, 0.013172103092074394, -0.00040391593938693404, 0.02621631696820259, -0.1718883514404297, 0.024227041751146317, 0.024006515741348267, -0.0913861095905304, -0.012248793616890907, -0.021350545808672905, -0.012168350629508495, 0.04709896817803383, 3.354910468414734e-33, -0.02073853835463524, -0.02026369236409664, -0.08557026088237762, 0.06692859530448914, 0.036638908088207245, 0.06807407736778259, 0.05159049108624458, 0.06987956166267395, 0.036874569952487946, 0.0006219405913725495, 0.01017050165683031, 0.06071818992495537, 0.020501762628555298, -0.03457561507821083, -0.018520474433898926, 0.032178543508052826, 0.1175411120057106, 0.03373759239912033, 0.009071646258234978, 0.009878256358206272, -0.07984858006238937, -0.07955068349838257, -0.09187708795070648, -0.013858486898243427, 0.009590651839971542, 0.02702542580664158, 0.03665677830576897, 0.0005284567596390843, -0.025194743648171425, -0.00461476668715477, -0.005013284273445606, -0.040991559624671936, 0.03729437291622162, 0.047783609479665756, -0.04691815376281738, 0.03906365856528282, 0.08066750317811966, -0.018369942903518677, -0.05834834650158882, 0.0433037094771862, 0.15928922593593597, 0.0246281661093235, 0.008228111080825329, 0.06528215110301971, -0.049887169152498245, 0.00921898614615202, -0.12157674878835678, -0.037438251078128815, 0.027556302025914192, 0.05458910018205643, 0.01027753483504057, -0.03614482656121254, -0.024814186617732048, -0.09168164432048798, -0.09358757734298706, -0.032025519758462906, -0.04103608801960945, 0.013611494563519955, 0.001812997623346746, -0.02603161893785, -0.05469903349876404, 0.004551622085273266, -0.023835662752389908, 0.03686103969812393, 0.04939084127545357, -0.050672516226768494, -0.02770494855940342, 0.00677692424505949, -0.060788437724113464, 0.0024197250604629517, 0.0832790806889534, -0.028324736282229424, -0.059716545045375824, 0.008553516119718552, -0.01570417732000351, 0.007677574176341295, -0.03264777362346649, 0.0239922683686018, -0.11607928574085236, -0.03221505135297775, 0.10854700207710266, 0.024093035608530045, -0.039825163781642914, 0.09217048436403275, 0.031222200021147728, 0.035273779183626175, -0.034028757363557816, -0.018542729318141937, -0.009833205491304398, -0.009349611587822437, -0.008592242375016212, 0.05655655264854431, 0.006033089477568865, 0.06098128482699394, -0.057600680738687515, -1.1635802543707996e-08, -0.0067438059486448765, -0.0831538736820221, -0.040983881801366806, -0.01107634324580431, 0.00015755806816741824, 0.04762900993227959, 0.03320945426821709, -0.042181555181741714, -0.01439201645553112, -0.025276651605963707, 0.015372118912637234, -0.011100721545517445, -0.049812015146017075, -0.0351349338889122, 0.046103429049253464, 0.005252142436802387, 0.008228780701756477, -0.026119254529476166, 0.009048095904290676, 0.003579059150069952, 0.07069477438926697, 0.043970659375190735, -0.03617426007986069, 0.029830727726221085, -0.04098060354590416, 0.028759416192770004, -0.019497256726026535, 0.08045528084039688, 0.01702277548611164, 0.006052035838365555, 0.09577792137861252, 0.03222460672259331, 0.00022555563191417605, -0.006827116943895817, 0.03878195956349373, -0.030960801988840103, 0.05713214725255966, -0.03579218313097954, 0.052842918783426285, 0.04240421950817108, 0.04675015062093735, 0.03228001669049263, -0.03312407061457634, -0.043742917478084564, 0.02271154336631298, -0.0009001587168313563, 0.03188784793019295, -0.11944139003753662, -0.01932333968579769, -0.04027429595589638, -0.002900606719776988, 0.019449397921562195, 0.041994329541921616, 0.04271865636110306, 0.019208677113056183, -0.03271987661719322, 0.10107492655515671, 0.06337107717990875, -0.060945335775613785, 0.04491227865219116, 0.10008140653371811, 0.06980156153440475, 0.03963461145758629, -0.029258763417601585]]\n",
      "1\n"
     ]
    }
   ],
   "source": [
    "from langchain_community.embeddings import SentenceTransformerEmbeddings\n",
    "\n",
    "embeddings = SentenceTransformerEmbeddings(model_name=\"all-MiniLM-L6-v2\", model_kwargs={\"trust_remote_code\":True}) \n",
    "\n",
    "doc_result = embeddings.embed_documents([\"text\"])\n",
    "print(doc_result)\n",
    "print(len(doc_result))"
   ]
  },
  {
   "cell_type": "code",
   "execution_count": 21,
   "metadata": {},
   "outputs": [],
   "source": [
    "from langchain_community.vectorstores import Chroma\n",
    "\n",
    "db = Chroma.from_documents(\n",
    "    chunks, embeddings, persist_directory=\"./chroma2\"\n",
    ")"
   ]
  },
  {
   "cell_type": "code",
   "execution_count": 29,
   "metadata": {},
   "outputs": [],
   "source": [
    "def retrieve_relevant_chunks(query):\n",
    "    result = db.similarity_search_with_relevance_scores(query=query, k=10)\n",
    "    return result"
   ]
  },
  {
   "cell_type": "code",
   "execution_count": 23,
   "metadata": {},
   "outputs": [],
   "source": [
    "# Step 6: Generate questions\n",
    "def generate_questions(context):\n",
    "    question_generator = pipeline(\"question-generation\")\n",
    "    questions = question_generator(context)\n",
    "    return questions"
   ]
  },
  {
   "cell_type": "code",
   "execution_count": 30,
   "metadata": {},
   "outputs": [
    {
     "name": "stdout",
     "output_type": "stream",
     "text": [
      "[(Document(metadata={'source': './extracted_text.txt', 'start_index': 1112}, page_content='6. Comparative  Volatility  Analysis  across  Time  Zones ………………………………... 3 3 \\n7. Recommendations  and Implications  .............................................................................. 35 \\n8. Conclusion  ........................................................................................................................ 37 \\n9. Bibliography .................................................................................................................... 39'), -0.0417235927438766), (Document(metadata={'source': './extracted_text.txt', 'start_index': 241}, page_content='5. Parth Kushwaha  : 23103064  2  Table  of Contents  \\n1. Abstract  ...............................................................................................................................3  \\n2. Introduction  ....................................................................................................................... 4 \\n3. Review  of Literature  ......................................................................................................... 5 \\n○ Need  of the Study'), -0.059016866156381464), (Document(metadata={'source': './extracted_text.txt', 'start_index': 18326}, page_content='helping the market mature and become a more viable and stable asset class for investors.  \\n \\nThe Volatility  of Bitcoin  and Its Role as a Medium  of Exchange  and a Store of Value  \\n \\nThe paper titled \"The Volatility of Bitcoin and Its Role as a Medium of Exchange and a Store of Value\" \\noffers a thorough examination of Bitcoin\\'s extreme price fluctuations and their implications for Bitcoin\\'s'), -0.0675048199779904), (Document(metadata={'source': './extracted_text.txt', 'start_index': 1452}, page_content='9. Bibliography .................................................................................................................... 39 \\n10. Plagiarism  Report  ........................................................................................................... 41 3   \\nAbstract  \\nThis research investigates the volatility dynamics within cryptocurrency markets, focusing on \\nhow factors  like retail  investor  behavior,  market  maturity,  and external  shocks  contribute  to price'), -0.07313074990461854), (Document(metadata={'source': './extracted_text.txt', 'start_index': 115323}, page_content='Entropy, 2022   \\n \\n \\n \\n<1% \\n<1% \\n \\n \\n \\n<1% \\n \\n \\n \\n \\n<1% \\n<1% \\n<1% \\n \\n \\n \\n<1%   \\n \\n22  \\n \\n \\n23  \\n \\n \\n \\n24  \\n \\n \\n25  \\n \\n \\n26  \\n \\n \\n  \\n \\n27  \\n \\n \\n \\n  \\n \\n28  \\n \\n \\n29  Publication  \\n \\nSubmitted to Saint Bonaventure  University  \\nStudent  Paper  \\n \\n \\nSubmitted  to Manchester  Metropolitan \\nUniversity  \\nStudent  Paper  \\n \\nwww.coursehero.com  \\nInternet  Source  \\n \\n \\nwww.science.gov  \\nInternet  Source  \\n \\n \\nTomas Pečiulis, Asta Vasiliauskaitė. \"THE \\nEVOLUTION  OF THE CENTRAL  BANK’S POLICY'), -0.07437816448196877), (Document(metadata={'source': './extracted_text.txt', 'start_index': 580}, page_content='3. Review  of Literature  ......................................................................................................... 5 \\n○ Need  of the Study  \\n○ Research  Gap \\n4. Research  Methodology  .................................................................................................... 28 \\n○ Objectives  of the Study \\n○ Research  Design  \\n○ Sources  of Data  \\n○ Limitations  of the Study'), -0.07893681546178222), (Document(metadata={'source': './extracted_text.txt', 'start_index': 26980}, page_content='planning. As a result, Bitcoin\\'s utility as a store of value may be limited to investors with a long -term \\nhorizon who are willing to weather the short -term price fluctuations.  \\n \\nIn conclusion,  the paper  \"The  Volatility  of Bitcoin  and Its Role  as a Medium  of Exchange  and a Store  of \\nValue\" provides valuable insights into the challenges posed by Bitcoin’s extreme volatility. The study'), -0.08966167112125856), (Document(metadata={'source': './extracted_text.txt', 'start_index': 18103}, page_content='class.  At the same time,  regulators  must  work to provide  clearer  guidelines  to ensure market  stability  and \\nprotect  investors. Ultimately, a deeper understanding of cryptocurrency volatility will be essential in \\nhelping the market mature and become a more viable and stable asset class for investors.  \\n \\nThe Volatility  of Bitcoin  and Its Role as a Medium  of Exchange  and a Store of Value'), -0.09847525149446268), (Document(metadata={'source': './extracted_text.txt', 'start_index': 106234}, page_content='of this evolut ion are significant, as a more mature market is likely to experience reduced \\nvolatility, enhanced efficiency, and increased investor confidence. Consequently, market participants, including exchanges and trading platforms, are encouraged to adopt best prac tices \\nthat prioritize transparency, efficiency, and integrity. By doing so, they can contribute to the establishment of a more  stable  trading  environment  that attracts  institutional investors  and fosters'), -0.10280442306942028), (Document(metadata={'source': './extracted_text.txt', 'start_index': 21322}, page_content='minimum variance  portfolios  tend to allocate  zero  or very low weig hts to Bitcoin,  as the risk it introduces \\noutweighs its potential benefits as a high -return asset.  \\n \\nBitcoin’s  Struggle  as a Medium  of Exchange  9  Another important aspect of the research is its examination of Bitcoin’s ability to serve as a medium of \\nexchange.  In traditional  financial  systems,  a medium  of exchange is expected  to provide  price  stability  to'), -0.11566686670835913)]\n"
     ]
    },
    {
     "name": "stderr",
     "output_type": "stream",
     "text": [
      "C:\\Users\\bhavy\\AppData\\Local\\Temp\\ipykernel_5740\\2948955076.py:2: UserWarning: Relevance scores must be between 0 and 1, got [(Document(metadata={'source': './extracted_text.txt', 'start_index': 1112}, page_content='6. Comparative  Volatility  Analysis  across  Time  Zones ………………………………... 3 3 \\n7. Recommendations  and Implications  .............................................................................. 35 \\n8. Conclusion  ........................................................................................................................ 37 \\n9. Bibliography .................................................................................................................... 39'), -0.0417235927438766), (Document(metadata={'source': './extracted_text.txt', 'start_index': 241}, page_content='5. Parth Kushwaha  : 23103064  2  Table  of Contents  \\n1. Abstract  ...............................................................................................................................3  \\n2. Introduction  ....................................................................................................................... 4 \\n3. Review  of Literature  ......................................................................................................... 5 \\n○ Need  of the Study'), -0.059016866156381464), (Document(metadata={'source': './extracted_text.txt', 'start_index': 18326}, page_content='helping the market mature and become a more viable and stable asset class for investors.  \\n \\nThe Volatility  of Bitcoin  and Its Role as a Medium  of Exchange  and a Store of Value  \\n \\nThe paper titled \"The Volatility of Bitcoin and Its Role as a Medium of Exchange and a Store of Value\" \\noffers a thorough examination of Bitcoin\\'s extreme price fluctuations and their implications for Bitcoin\\'s'), -0.0675048199779904), (Document(metadata={'source': './extracted_text.txt', 'start_index': 1452}, page_content='9. Bibliography .................................................................................................................... 39 \\n10. Plagiarism  Report  ........................................................................................................... 41 3   \\nAbstract  \\nThis research investigates the volatility dynamics within cryptocurrency markets, focusing on \\nhow factors  like retail  investor  behavior,  market  maturity,  and external  shocks  contribute  to price'), -0.07313074990461854), (Document(metadata={'source': './extracted_text.txt', 'start_index': 115323}, page_content='Entropy, 2022   \\n \\n \\n \\n<1% \\n<1% \\n \\n \\n \\n<1% \\n \\n \\n \\n \\n<1% \\n<1% \\n<1% \\n \\n \\n \\n<1%   \\n \\n22  \\n \\n \\n23  \\n \\n \\n \\n24  \\n \\n \\n25  \\n \\n \\n26  \\n \\n \\n  \\n \\n27  \\n \\n \\n \\n  \\n \\n28  \\n \\n \\n29  Publication  \\n \\nSubmitted to Saint Bonaventure  University  \\nStudent  Paper  \\n \\n \\nSubmitted  to Manchester  Metropolitan \\nUniversity  \\nStudent  Paper  \\n \\nwww.coursehero.com  \\nInternet  Source  \\n \\n \\nwww.science.gov  \\nInternet  Source  \\n \\n \\nTomas Pečiulis, Asta Vasiliauskaitė. \"THE \\nEVOLUTION  OF THE CENTRAL  BANK’S POLICY'), -0.07437816448196877), (Document(metadata={'source': './extracted_text.txt', 'start_index': 580}, page_content='3. Review  of Literature  ......................................................................................................... 5 \\n○ Need  of the Study  \\n○ Research  Gap \\n4. Research  Methodology  .................................................................................................... 28 \\n○ Objectives  of the Study \\n○ Research  Design  \\n○ Sources  of Data  \\n○ Limitations  of the Study'), -0.07893681546178222), (Document(metadata={'source': './extracted_text.txt', 'start_index': 26980}, page_content='planning. As a result, Bitcoin\\'s utility as a store of value may be limited to investors with a long -term \\nhorizon who are willing to weather the short -term price fluctuations.  \\n \\nIn conclusion,  the paper  \"The  Volatility  of Bitcoin  and Its Role  as a Medium  of Exchange  and a Store  of \\nValue\" provides valuable insights into the challenges posed by Bitcoin’s extreme volatility. The study'), -0.08966167112125856), (Document(metadata={'source': './extracted_text.txt', 'start_index': 18103}, page_content='class.  At the same time,  regulators  must  work to provide  clearer  guidelines  to ensure market  stability  and \\nprotect  investors. Ultimately, a deeper understanding of cryptocurrency volatility will be essential in \\nhelping the market mature and become a more viable and stable asset class for investors.  \\n \\nThe Volatility  of Bitcoin  and Its Role as a Medium  of Exchange  and a Store of Value'), -0.09847525149446268), (Document(metadata={'source': './extracted_text.txt', 'start_index': 106234}, page_content='of this evolut ion are significant, as a more mature market is likely to experience reduced \\nvolatility, enhanced efficiency, and increased investor confidence. Consequently, market participants, including exchanges and trading platforms, are encouraged to adopt best prac tices \\nthat prioritize transparency, efficiency, and integrity. By doing so, they can contribute to the establishment of a more  stable  trading  environment  that attracts  institutional investors  and fosters'), -0.10280442306942028), (Document(metadata={'source': './extracted_text.txt', 'start_index': 21322}, page_content='minimum variance  portfolios  tend to allocate  zero  or very low weig hts to Bitcoin,  as the risk it introduces \\noutweighs its potential benefits as a high -return asset.  \\n \\nBitcoin’s  Struggle  as a Medium  of Exchange  9  Another important aspect of the research is its examination of Bitcoin’s ability to serve as a medium of \\nexchange.  In traditional  financial  systems,  a medium  of exchange is expected  to provide  price  stability  to'), -0.11566686670835913)]\n",
      "  result = db.similarity_search_with_relevance_scores(query=query, k=10)\n"
     ]
    }
   ],
   "source": [
    "query = \"What are the main points of the document?\"\n",
    "relevant_chunks = retrieve_relevant_chunks(query)\n",
    "print(relevant_chunks)"
   ]
  },
  {
   "cell_type": "code",
   "execution_count": 26,
   "metadata": {},
   "outputs": [
    {
     "ename": "TypeError",
     "evalue": "sequence item 0: expected str instance, tuple found",
     "output_type": "error",
     "traceback": [
      "\u001b[1;31m---------------------------------------------------------------------------\u001b[0m",
      "\u001b[1;31mTypeError\u001b[0m                                 Traceback (most recent call last)",
      "Cell \u001b[1;32mIn[26], line 2\u001b[0m\n\u001b[0;32m      1\u001b[0m \u001b[38;5;66;03m# Generate questions\u001b[39;00m\n\u001b[1;32m----> 2\u001b[0m context \u001b[38;5;241m=\u001b[39m \u001b[38;5;124;43m\"\u001b[39;49m\u001b[38;5;124;43m \u001b[39;49m\u001b[38;5;124;43m\"\u001b[39;49m\u001b[38;5;241;43m.\u001b[39;49m\u001b[43mjoin\u001b[49m\u001b[43m(\u001b[49m\u001b[43mrelevant_chunks\u001b[49m\u001b[43m)\u001b[49m\n\u001b[0;32m      3\u001b[0m questions \u001b[38;5;241m=\u001b[39m generate_questions(context)\n\u001b[0;32m      4\u001b[0m \u001b[38;5;28;01mfor\u001b[39;00m q \u001b[38;5;129;01min\u001b[39;00m questions:\n",
      "\u001b[1;31mTypeError\u001b[0m: sequence item 0: expected str instance, tuple found"
     ]
    }
   ],
   "source": [
    "# Generate questions\n",
    "context = \" \".join(relevant_chunks)\n",
    "questions = generate_questions(context)\n",
    "for q in questions:\n",
    "    print(q['question'])"
   ]
  },
  {
   "cell_type": "code",
   "execution_count": null,
   "metadata": {},
   "outputs": [],
   "source": [
    "from langchain.embeddings import SentenceTransformerEmbeddings\n",
    "import chromadb\n",
    "\n",
    "# Define the embedding function using SentenceTransformerEmbeddings\n",
    "def get_embedding(text):\n",
    "    # Initialize the sentence transformer with model_kwargs\n",
    "    embeddings_model = SentenceTransformerEmbeddings(\n",
    "        model_name=\"all-MiniLM-L6-v2\",\n",
    "        model_kwargs={\"trust_remote_code\": True}\n",
    "    )\n",
    "    \n",
    "    # Get the embeddings for the given text\n",
    "    embeddings = embeddings_model.embed([text])  # The embed method expects a list of texts\n",
    "    return embeddings[0]  # Return the first embedding (as we are embedding one document at a time)\n",
    "\n",
    "# Initialize Chroma client with the new embedding function\n",
    "client = chromadb.Client()\n",
    "\n",
    "collection = client.create_collection(\n",
    "    name=\"pdf_collection\", \n",
    "    embedding_function=get_embedding  # Embedding function using SentenceTransformer\n",
    ")\n",
    "\n",
    "# Example of adding a document with the new embeddings\n",
    "collection.add(\n",
    "    documents=[\"This is the content of the PDF.\"],  \n",
    "    ids=[\"pdf1\"],\n",
    "    metadatas=[{\"name\": \"PDF1\"}]\n",
    ")"
   ]
  },
  {
   "cell_type": "code",
   "execution_count": 52,
   "metadata": {},
   "outputs": [
    {
     "ename": "ValueError",
     "evalue": "Expected EmbeddingFunction.__call__ to have the following signature: odict_keys(['self', 'input']), got odict_keys(['self', 'args', 'kwargs'])\nPlease see https://docs.trychroma.com/guides/embeddings for details of the EmbeddingFunction interface.\nPlease note the recent change to the EmbeddingFunction interface: https://docs.trychroma.com/deployment/migration#migration-to-0.4.16---november-7,-2023 \n",
     "output_type": "error",
     "traceback": [
      "\u001b[1;31m---------------------------------------------------------------------------\u001b[0m",
      "\u001b[1;31mValueError\u001b[0m                                Traceback (most recent call last)",
      "Cell \u001b[1;32mIn[52], line 22\u001b[0m\n\u001b[0;32m     20\u001b[0m collection_name \u001b[38;5;241m=\u001b[39m \u001b[38;5;124m\"\u001b[39m\u001b[38;5;124mpdf_embeddings\u001b[39m\u001b[38;5;124m\"\u001b[39m\n\u001b[0;32m     21\u001b[0m \u001b[38;5;66;03m# collection = client.create_collection(name=collection_name)\u001b[39;00m\n\u001b[1;32m---> 22\u001b[0m collection \u001b[38;5;241m=\u001b[39m \u001b[43mclient\u001b[49m\u001b[38;5;241;43m.\u001b[39;49m\u001b[43mcreate_collection\u001b[49m\u001b[43m(\u001b[49m\n\u001b[0;32m     23\u001b[0m \u001b[43m    \u001b[49m\u001b[43mname\u001b[49m\u001b[38;5;241;43m=\u001b[39;49m\u001b[38;5;124;43m\"\u001b[39;49m\u001b[38;5;124;43mpdf_collection1\u001b[39;49m\u001b[38;5;124;43m\"\u001b[39;49m\u001b[43m,\u001b[49m\u001b[43m \u001b[49m\n\u001b[0;32m     24\u001b[0m \u001b[43m    \u001b[49m\u001b[43membedding_function\u001b[49m\u001b[38;5;241;43m=\u001b[39;49m\u001b[43mget_embedding\u001b[49m\u001b[43m  \u001b[49m\u001b[38;5;66;43;03m# Embedding function using SentenceTransformer\u001b[39;49;00m\n\u001b[0;32m     25\u001b[0m \u001b[43m)\u001b[49m\n",
      "File \u001b[1;32me:\\Hackathons\\IEEE\\venv\\Lib\\site-packages\\chromadb\\api\\client.py:125\u001b[0m, in \u001b[0;36mClient.create_collection\u001b[1;34m(self, name, configuration, metadata, embedding_function, data_loader, get_or_create)\u001b[0m\n\u001b[0;32m    105\u001b[0m \u001b[38;5;129m@override\u001b[39m\n\u001b[0;32m    106\u001b[0m \u001b[38;5;28;01mdef\u001b[39;00m \u001b[38;5;21mcreate_collection\u001b[39m(\n\u001b[0;32m    107\u001b[0m     \u001b[38;5;28mself\u001b[39m,\n\u001b[1;32m   (...)\u001b[0m\n\u001b[0;32m    115\u001b[0m     get_or_create: \u001b[38;5;28mbool\u001b[39m \u001b[38;5;241m=\u001b[39m \u001b[38;5;28;01mFalse\u001b[39;00m,\n\u001b[0;32m    116\u001b[0m ) \u001b[38;5;241m-\u001b[39m\u001b[38;5;241m>\u001b[39m Collection:\n\u001b[0;32m    117\u001b[0m     model \u001b[38;5;241m=\u001b[39m \u001b[38;5;28mself\u001b[39m\u001b[38;5;241m.\u001b[39m_server\u001b[38;5;241m.\u001b[39mcreate_collection(\n\u001b[0;32m    118\u001b[0m         name\u001b[38;5;241m=\u001b[39mname,\n\u001b[0;32m    119\u001b[0m         metadata\u001b[38;5;241m=\u001b[39mmetadata,\n\u001b[1;32m   (...)\u001b[0m\n\u001b[0;32m    123\u001b[0m         configuration\u001b[38;5;241m=\u001b[39mconfiguration,\n\u001b[0;32m    124\u001b[0m     )\n\u001b[1;32m--> 125\u001b[0m     \u001b[38;5;28;01mreturn\u001b[39;00m \u001b[43mCollection\u001b[49m\u001b[43m(\u001b[49m\n\u001b[0;32m    126\u001b[0m \u001b[43m        \u001b[49m\u001b[43mclient\u001b[49m\u001b[38;5;241;43m=\u001b[39;49m\u001b[38;5;28;43mself\u001b[39;49m\u001b[38;5;241;43m.\u001b[39;49m\u001b[43m_server\u001b[49m\u001b[43m,\u001b[49m\n\u001b[0;32m    127\u001b[0m \u001b[43m        \u001b[49m\u001b[43mmodel\u001b[49m\u001b[38;5;241;43m=\u001b[39;49m\u001b[43mmodel\u001b[49m\u001b[43m,\u001b[49m\n\u001b[0;32m    128\u001b[0m \u001b[43m        \u001b[49m\u001b[43membedding_function\u001b[49m\u001b[38;5;241;43m=\u001b[39;49m\u001b[43membedding_function\u001b[49m\u001b[43m,\u001b[49m\n\u001b[0;32m    129\u001b[0m \u001b[43m        \u001b[49m\u001b[43mdata_loader\u001b[49m\u001b[38;5;241;43m=\u001b[39;49m\u001b[43mdata_loader\u001b[49m\u001b[43m,\u001b[49m\n\u001b[0;32m    130\u001b[0m \u001b[43m    \u001b[49m\u001b[43m)\u001b[49m\n",
      "File \u001b[1;32me:\\Hackathons\\IEEE\\venv\\Lib\\site-packages\\chromadb\\api\\models\\CollectionCommon.py:93\u001b[0m, in \u001b[0;36mCollectionCommon.__init__\u001b[1;34m(self, client, model, embedding_function, data_loader)\u001b[0m\n\u001b[0;32m     91\u001b[0m \u001b[38;5;66;03m# Check to make sure the embedding function has the right signature, as defined by the EmbeddingFunction protocol\u001b[39;00m\n\u001b[0;32m     92\u001b[0m \u001b[38;5;28;01mif\u001b[39;00m embedding_function \u001b[38;5;129;01mis\u001b[39;00m \u001b[38;5;129;01mnot\u001b[39;00m \u001b[38;5;28;01mNone\u001b[39;00m:\n\u001b[1;32m---> 93\u001b[0m     \u001b[43mvalidate_embedding_function\u001b[49m\u001b[43m(\u001b[49m\u001b[43membedding_function\u001b[49m\u001b[43m)\u001b[49m\n\u001b[0;32m     95\u001b[0m \u001b[38;5;28mself\u001b[39m\u001b[38;5;241m.\u001b[39m_embedding_function \u001b[38;5;241m=\u001b[39m embedding_function\n\u001b[0;32m     96\u001b[0m \u001b[38;5;28mself\u001b[39m\u001b[38;5;241m.\u001b[39m_data_loader \u001b[38;5;241m=\u001b[39m data_loader\n",
      "File \u001b[1;32me:\\Hackathons\\IEEE\\venv\\Lib\\site-packages\\chromadb\\api\\types.py:256\u001b[0m, in \u001b[0;36mvalidate_embedding_function\u001b[1;34m(embedding_function)\u001b[0m\n\u001b[0;32m    253\u001b[0m protocol_signature \u001b[38;5;241m=\u001b[39m signature(EmbeddingFunction\u001b[38;5;241m.\u001b[39m\u001b[38;5;21m__call__\u001b[39m)\u001b[38;5;241m.\u001b[39mparameters\u001b[38;5;241m.\u001b[39mkeys()\n\u001b[0;32m    255\u001b[0m \u001b[38;5;28;01mif\u001b[39;00m \u001b[38;5;129;01mnot\u001b[39;00m function_signature \u001b[38;5;241m==\u001b[39m protocol_signature:\n\u001b[1;32m--> 256\u001b[0m     \u001b[38;5;28;01mraise\u001b[39;00m \u001b[38;5;167;01mValueError\u001b[39;00m(\n\u001b[0;32m    257\u001b[0m         \u001b[38;5;124mf\u001b[39m\u001b[38;5;124m\"\u001b[39m\u001b[38;5;124mExpected EmbeddingFunction.__call__ to have the following signature: \u001b[39m\u001b[38;5;132;01m{\u001b[39;00mprotocol_signature\u001b[38;5;132;01m}\u001b[39;00m\u001b[38;5;124m, got \u001b[39m\u001b[38;5;132;01m{\u001b[39;00mfunction_signature\u001b[38;5;132;01m}\u001b[39;00m\u001b[38;5;130;01m\\n\u001b[39;00m\u001b[38;5;124m\"\u001b[39m\n\u001b[0;32m    258\u001b[0m         \u001b[38;5;124m\"\u001b[39m\u001b[38;5;124mPlease see https://docs.trychroma.com/guides/embeddings for details of the EmbeddingFunction interface.\u001b[39m\u001b[38;5;130;01m\\n\u001b[39;00m\u001b[38;5;124m\"\u001b[39m\n\u001b[0;32m    259\u001b[0m         \u001b[38;5;124m\"\u001b[39m\u001b[38;5;124mPlease note the recent change to the EmbeddingFunction interface: https://docs.trychroma.com/deployment/migration#migration-to-0.4.16---november-7,-2023 \u001b[39m\u001b[38;5;130;01m\\n\u001b[39;00m\u001b[38;5;124m\"\u001b[39m\n\u001b[0;32m    260\u001b[0m     )\n",
      "\u001b[1;31mValueError\u001b[0m: Expected EmbeddingFunction.__call__ to have the following signature: odict_keys(['self', 'input']), got odict_keys(['self', 'args', 'kwargs'])\nPlease see https://docs.trychroma.com/guides/embeddings for details of the EmbeddingFunction interface.\nPlease note the recent change to the EmbeddingFunction interface: https://docs.trychroma.com/deployment/migration#migration-to-0.4.16---november-7,-2023 \n"
     ]
    }
   ],
   "source": [
    "import os\n",
    "import chromadb\n",
    "from sentence_transformers import SentenceTransformer\n",
    "from pypdf import PdfReader\n",
    "\n",
    "# Initialize the ChromaDB client\n",
    "client = chromadb.Client()\n",
    "def get_embedding(text):\n",
    "    # Initialize the sentence transformer with model_kwargs\n",
    "    embeddings_model = SentenceTransformerEmbeddings(\n",
    "        model_name=\"all-MiniLM-L6-v2\",\n",
    "        model_kwargs={\"trust_remote_code\": True}\n",
    "    )\n",
    "    \n",
    "    # Get the embeddings for the given text\n",
    "    embeddings = embeddings_model.embed([text])  # The embed method expects a list of texts\n",
    "    return embeddings[0]  # Return the first embedding (as we are embedding one document at a time)\n",
    "\n",
    "# Create a collection for storing PDF embeddings\n",
    "collection_name = \"pdf_embeddings\"\n",
    "# collection = client.create_collection(name=collection_name)\n",
    "collection = client.create_collection(\n",
    "    name=\"pdf_collection1\", \n",
    "    embedding_function=get_embedding  # Embedding function using SentenceTransformer\n",
    ")"
   ]
  },
  {
   "cell_type": "code",
   "execution_count": 44,
   "metadata": {},
   "outputs": [
    {
     "name": "stderr",
     "output_type": "stream",
     "text": [
      "Add of existing embedding ID: pdf_1\n",
      "Insert of existing embedding ID: pdf_1\n"
     ]
    },
    {
     "name": "stdout",
     "output_type": "stream",
     "text": [
      "Embeddings for data/Finance Project (Final).pdf stored successfully!\n",
      "Embeddings for data/Resume (Digital).pdf stored successfully!\n"
     ]
    }
   ],
   "source": [
    "# Load the embedding model\n",
    "model_name = \"all-MiniLM-L6-v2\"\n",
    "model = SentenceTransformer(model_name, model_kwargs={\"trust_remote_code\": True})\n",
    "\n",
    "# Function to process a PDF, generate embeddings, and store them in ChromaDB\n",
    "def store_pdf_embeddings(pdf_file_path, doc_id):\n",
    "    # Extract text from the PDF\n",
    "    text = extract_text_from_pdf(pdf_file_path)\n",
    "\n",
    "    # Generate embeddings\n",
    "    embeddings = model.encode(text)\n",
    "\n",
    "    # Store embeddings in the ChromaDB collection\n",
    "    collection.add(\n",
    "        documents=[text],  # Store document text\n",
    "        embeddings=[embeddings],  # Store the corresponding embeddings\n",
    "        ids=[doc_id]  # Unique ID for the PDF\n",
    "    )\n",
    "    print(f\"Embeddings for {pdf_file_path} stored successfully!\")\n",
    "\n",
    "# Example usage\n",
    "pdf_file_path = \"data/Finance Project (Final).pdf\"  # Replace with your PDF file path\n",
    "doc_id = \"pdf_1\"  # Unique identifier for the PDF document\n",
    "store_pdf_embeddings(pdf_file_path, doc_id)\n",
    "store_pdf_embeddings(\"data/Resume (Digital).pdf\", \"pdf_2\")"
   ]
  },
  {
   "cell_type": "code",
   "execution_count": 45,
   "metadata": {},
   "outputs": [],
   "source": [
    "def get_pdf_embeddings(doc_id):\n",
    "    result = collection.get(ids=[doc_id])\n",
    "    if result[\"embeddings\"]:\n",
    "        print(f\"Embeddings for doc_id '{doc_id}' retrieved successfully!\")\n",
    "        return result[\"embeddings\"][0]\n",
    "    else:\n",
    "        print(f\"No embeddings found for doc_id '{doc_id}'\")\n",
    "        return None\n"
   ]
  },
  {
   "cell_type": "code",
   "execution_count": 49,
   "metadata": {},
   "outputs": [
    {
     "name": "stderr",
     "output_type": "stream",
     "text": [
      "Add of existing embedding ID: pdf_3\n",
      "Insert of existing embedding ID: pdf_3\n"
     ]
    },
    {
     "name": "stdout",
     "output_type": "stream",
     "text": [
      "Embeddings for data/Resume (Digital).pdf stored successfully!\n",
      "No embeddings found for doc_id 'pdf_1'\n"
     ]
    }
   ],
   "source": [
    "store_pdf_embeddings(\"data/Resume (Digital).pdf\", \"pdf_3\")\n",
    "get_pdf_embeddings(\"pdf_1\")"
   ]
  },
  {
   "cell_type": "code",
   "execution_count": null,
   "metadata": {},
   "outputs": [],
   "source": []
  }
 ],
 "metadata": {
  "kernelspec": {
   "display_name": "venv",
   "language": "python",
   "name": "python3"
  },
  "language_info": {
   "codemirror_mode": {
    "name": "ipython",
    "version": 3
   },
   "file_extension": ".py",
   "mimetype": "text/x-python",
   "name": "python",
   "nbconvert_exporter": "python",
   "pygments_lexer": "ipython3",
   "version": "3.12.4"
  }
 },
 "nbformat": 4,
 "nbformat_minor": 2
}
