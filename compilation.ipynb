{
 "cells": [
  {
   "cell_type": "code",
   "execution_count": 3,
   "metadata": {},
   "outputs": [
    {
     "name": "stderr",
     "output_type": "stream",
     "text": [
      "e:\\Hackathons\\IEEE\\venv\\Lib\\site-packages\\transformers\\generation\\utils.py:1220: UserWarning: Using the model-agnostic default `max_length` (=20) to control the generation length. We recommend setting `max_new_tokens` to control the maximum length of the generation.\n",
      "  warnings.warn(\n"
     ]
    },
    {
     "name": "stdout",
     "output_type": "stream",
     "text": [
      "Image 29.1: a line graph showing the number of different types of the different species\n",
      "Image 30.1: a chart showing the trend in the price of commodities\n",
      "Image 31.1: a line graph shows the number of people who have been in the past\n",
      "Image 33.1: a graph with the number of people in each region\n"
     ]
    }
   ],
   "source": [
    "import fitz  # PyMuPDF\n",
    "import torch\n",
    "from PIL import Image\n",
    "from transformers import BlipProcessor, BlipForConditionalGeneration\n",
    "import io\n",
    "\n",
    "# Function to generate captions for images using BLIP\n",
    "def generate_caption(image):\n",
    "    # Load the BLIP model and processor\n",
    "    processor = BlipProcessor.from_pretrained(\"Salesforce/blip-image-captioning-base\")\n",
    "    model = BlipForConditionalGeneration.from_pretrained(\"Salesforce/blip-image-captioning-base\")\n",
    "\n",
    "    # Preprocess the image\n",
    "    inputs = processor(image, return_tensors=\"pt\")\n",
    "\n",
    "    # Generate caption\n",
    "    with torch.no_grad():\n",
    "        outputs = model.generate(**inputs)\n",
    "\n",
    "    # Decode the generated caption\n",
    "    caption = processor.decode(outputs[0], skip_special_tokens=True)\n",
    "    return caption\n",
    "\n",
    "# Function to extract images from PDF and generate captions\n",
    "def extract_images_from_pdf(pdf_path):\n",
    "    pdf_document = fitz.open(pdf_path)\n",
    "    descriptions = {}\n",
    "\n",
    "    for page_number in range(len(pdf_document)):\n",
    "        page = pdf_document[page_number]\n",
    "        image_list = page.get_images(full=True)\n",
    "\n",
    "        for img_index, img in enumerate(image_list):\n",
    "            xref = img[0]\n",
    "            image = pdf_document.extract_image(xref)\n",
    "            image_bytes = image[\"image\"]\n",
    "\n",
    "            # Open the image using PIL\n",
    "            img = Image.open(io.BytesIO(image_bytes))\n",
    "\n",
    "            # Generate caption using BLIP\n",
    "            caption = generate_caption(img)  # Pass the image for captioning\n",
    "            descriptions[f\"Image {page_number + 1}.{img_index + 1}\"] = caption\n",
    "\n",
    "    return descriptions\n",
    "\n",
    "# Example usage\n",
    "pdf_path = \"data/Finance_Project.pdf\"  # Replace with your PDF file path\n",
    "captions = extract_images_from_pdf(pdf_path)\n",
    "\n",
    "# Print the captions for each image\n",
    "for image_context, caption in captions.items():\n",
    "    print(f\"{image_context}: {caption}\")"
   ]
  },
  {
   "cell_type": "code",
   "execution_count": null,
   "metadata": {},
   "outputs": [],
   "source": []
  }
 ],
 "metadata": {
  "kernelspec": {
   "display_name": "venv",
   "language": "python",
   "name": "python3"
  },
  "language_info": {
   "codemirror_mode": {
    "name": "ipython",
    "version": 3
   },
   "file_extension": ".py",
   "mimetype": "text/x-python",
   "name": "python",
   "nbconvert_exporter": "python",
   "pygments_lexer": "ipython3",
   "version": "3.12.4"
  }
 },
 "nbformat": 4,
 "nbformat_minor": 2
}
