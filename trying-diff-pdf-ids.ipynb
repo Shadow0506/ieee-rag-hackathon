{
 "cells": [
  {
   "cell_type": "code",
   "execution_count": 26,
   "metadata": {},
   "outputs": [],
   "source": [
    "from pypdf import PdfReader\n",
    "import chromadb\n",
    "from chromadb.utils import embedding_functions\n",
    "from sentence_transformers import SentenceTransformer\n",
    "import uuid\n",
    "from langchain_community.embeddings import SentenceTransformerEmbeddings\n",
    "def embed(text):\n",
    "    \n",
    "\n",
    "    embeddings = SentenceTransformerEmbeddings(model_name=\"all-MiniLM-L6-v2\", model_kwargs={\"trust_remote_code\":True}) \n",
    "    return embeddings.embed_documents([text])\n",
    "# Initialize Chroma client\n",
    "client = chromadb.Client()\n",
    "\n",
    "# Create a collection\n",
    "collection = client.create_collection(\"pdf_collectjbhiefw2\")\n",
    "\n",
    "# Initialize the embedding function\n",
    "embedding_function = embedding_functions.SentenceTransformerEmbeddingFunction(model_name=\"all-MiniLM-L6-v2\")\n",
    "\n",
    "def read_pdf(pdf_path):\n",
    "    # Create a PdfReader object\n",
    "    reader = PdfReader(pdf_path)\n",
    "\n",
    "    # Initialize a string to hold all the extracted text\n",
    "    extracted_text = \"\"\n",
    "\n",
    "    # Loop through each page and extract text\n",
    "    for page in reader.pages:\n",
    "        extracted_text += page.extract_text()\n",
    "\n",
    "    # Print the extracted text\n",
    "    # with open('extracted_text.txt', 'w') as text_file:\n",
    "        # text_file.write(extracted_text)\n",
    "\n",
    "    return extracted_text\n",
    "\n",
    "def add_pdf_to_database(file_path):\n",
    "    # Read PDF content\n",
    "    content = read_pdf(file_path)\n",
    "    \n",
    "    # Generate a unique ID for this PDF\n",
    "    pdf_id = str(uuid.uuid4())\n",
    "    \n",
    "    # Add the document to the collection\n",
    "    collection.add(\n",
    "        documents=[content],\n",
    "        embeddings=[embed(content)],\n",
    "        metadatas=[{\"source\": file_path}],\n",
    "        ids=[pdf_id]\n",
    "    )\n",
    "    \n",
    "    print(f\"Added PDF with ID: {pdf_id}\")\n",
    "    return pdf_id\n",
    "\n",
    "def query_pdf(query, pdf_id):\n",
    "    # Query the collection\n",
    "    results = collection.query(\n",
    "        query_texts=[query],\n",
    "        n_results=1,\n",
    "        where={\"$id\": pdf_id}\n",
    "    )\n",
    "    \n",
    "    if results['documents'][0]:\n",
    "        return results['documents'][0][0]\n",
    "    else:\n",
    "        return \"No matching content found for the given PDF ID.\""
   ]
  },
  {
   "cell_type": "code",
   "execution_count": 27,
   "metadata": {},
   "outputs": [
    {
     "name": "stderr",
     "output_type": "stream",
     "text": [
      "C:\\Users\\bhavy\\AppData\\Local\\Temp\\ipykernel_29500\\1943940443.py:10: LangChainDeprecationWarning: The class `HuggingFaceEmbeddings` was deprecated in LangChain 0.2.2 and will be removed in 1.0. An updated version of the class exists in the :class:`~langchain-huggingface package and should be used instead. To use it run `pip install -U :class:`~langchain-huggingface` and import as `from :class:`~langchain_huggingface import HuggingFaceEmbeddings``.\n",
      "  embeddings = SentenceTransformerEmbeddings(model_name=\"all-MiniLM-L6-v2\", model_kwargs={\"trust_remote_code\":True})\n"
     ]
    },
    {
     "ename": "ValueError",
     "evalue": "Expected each value in the embedding to be a int or float, got an embedding with ['ndarray'] - [[-2.49327663e-02  3.98689769e-02 -8.89069736e-02 -5.26046287e-03\n  -4.12245356e-02 -2.17040963e-02 -1.25562120e-02  7.27673667e-03\n  -1.68624111e-02 -1.56573933e-02  1.54429264e-02 -8.12266544e-02\n  -1.84264046e-03 -9.36593488e-03  5.11218756e-02 -3.39858495e-02\n   1.65007096e-02  8.88847932e-03 -2.94668525e-02 -1.45236328e-02\n  -1.34900529e-02 -1.78603958e-02  1.52437075e-03 -5.39461896e-02\n  -2.03830656e-03  1.10211093e-02  6.51584789e-02 -3.95703036e-03\n  -6.70144111e-02  8.56862590e-03  1.59778874e-02  4.53001037e-02\n   8.31174850e-03 -2.18393356e-02 -2.20105164e-02 -7.95699842e-03\n  -1.24563370e-02  4.09440026e-02  5.15416898e-02 -5.07450067e-02\n   3.79066020e-02 -1.26179010e-01 -2.51867287e-02 -7.81040043e-02\n  -2.09003910e-02 -5.28967343e-02  1.73681248e-02 -4.82525639e-02\n  -5.50431758e-02 -2.78374553e-02 -2.34020445e-02  2.06812490e-02\n  -3.12880799e-02  3.46634015e-02 -3.13278697e-02 -1.40555769e-01\n  -9.37574804e-02 -4.83749248e-02  5.41839898e-02  3.32378335e-02\n   3.23783830e-02  1.22009173e-01 -5.92268780e-02  5.86381406e-02\n   9.52890813e-02 -4.95915636e-02  7.36144111e-02 -4.27878313e-02\n   8.19752552e-03  1.94772705e-02  8.44704285e-02 -6.36550263e-02\n  -1.61783155e-02 -7.61857480e-02 -7.55881742e-02 -5.43673784e-02\n   2.26538572e-02 -4.89172824e-02 -5.99774346e-03 -8.24186429e-02\n   4.35658768e-02 -4.54075783e-02  5.55367731e-02 -2.13755220e-02\n  -3.30105424e-02  5.68814634e-04  6.30266294e-02 -3.33183333e-02\n  -2.29093768e-02 -5.39030368e-03  1.45173058e-01  3.99664640e-02\n   1.43060554e-02  1.48465494e-02  7.80678391e-02  2.16523297e-02\n  -1.37436865e-02 -3.09018791e-02 -1.04650315e-02  7.07477378e-03\n   2.37431214e-03  4.95415851e-02 -7.54229948e-02 -4.66071768e-03\n  -6.06759451e-02 -3.10584009e-02 -3.61610502e-02  1.23070478e-02\n  -4.15589362e-02  9.42710601e-03 -3.37637775e-02  4.09794338e-02\n  -1.08859010e-01 -8.91555846e-02 -2.01855204e-03  9.22504589e-02\n  -8.06908607e-02  1.12644732e-02 -3.61864977e-02  5.55203110e-02\n   3.78610194e-02  3.64426449e-02 -1.83377899e-02  1.01586618e-01\n   1.24947680e-02 -7.43340403e-02  2.26062611e-02 -1.99536742e-32\n  -1.13522545e-01 -5.91968745e-02  1.91786513e-02 -4.73508835e-02\n  -5.02110943e-02  4.15184796e-02 -7.96240405e-04 -5.10467663e-02\n  -3.90068702e-02 -5.48043586e-02 -1.03863170e-02 -3.13026309e-02\n  -7.75966141e-03  4.99561243e-02 -2.72210818e-02 -8.07186812e-02\n   3.15509439e-02 -4.10605483e-02  2.97993124e-02 -7.00951591e-02\n   4.18651365e-02  1.79608036e-02  5.69486432e-02 -1.23458300e-02\n  -3.92234791e-03  5.64023927e-02  8.94471183e-02  2.37243082e-02\n   8.64426047e-03  2.27365978e-02  4.95693125e-02  4.92391400e-02\n  -6.33409098e-02 -4.84543592e-02 -4.83530127e-02  2.75512226e-02\n   4.68773767e-02 -6.81954622e-02 -5.78255914e-02 -2.76274830e-02\n   4.21477854e-03  6.12323806e-02 -1.85390934e-02 -5.05200066e-02\n  -2.15273891e-02  5.59984297e-02 -7.50940964e-02 -1.98155921e-02\n   2.41100211e-02  2.77002808e-02 -9.37054828e-02 -9.01940931e-03\n  -4.57894541e-02 -6.88480735e-02  3.02771144e-02 -4.94107492e-02\n  -3.08321528e-02 -9.19349939e-02 -4.28457335e-02  5.23215570e-02\n  -6.57726675e-02 -2.93319430e-02 -6.94574863e-02 -1.54418200e-02\n  -7.85542876e-02  8.44430178e-02 -5.23604220e-03 -4.98702079e-02\n  -1.28523394e-01  6.44305572e-02 -5.85384332e-02 -1.68792345e-02\n   1.51877375e-02  2.35627759e-02 -1.52037693e-02  7.45759159e-03\n   1.39451874e-02  6.67800605e-02  5.94842471e-02  1.09215965e-02\n   4.04571071e-02 -2.89287567e-02  1.03152804e-01 -4.87706400e-02\n  -3.25752310e-02  5.51977642e-02 -6.25714213e-02 -6.31866306e-02\n   2.06958130e-02  2.56816000e-02  1.65355057e-02 -2.52925418e-02\n   4.53066155e-02  1.00302920e-02 -9.35146213e-03  7.77986830e-33\n  -2.96585057e-02  1.20878397e-02 -9.77323800e-02  1.84350722e-02\n   2.11954992e-02  3.07886694e-02 -7.29169846e-02 -5.16034197e-03\n  -3.44309695e-02  7.62349963e-02  3.09664384e-02  6.03970746e-03\n   2.66771298e-03 -2.31646448e-02  2.08308417e-02 -3.50970514e-02\n   9.44541842e-02  4.04444858e-02 -3.36987115e-02 -3.87090668e-02\n  -3.48137356e-02  7.48839006e-02 -5.97170405e-02 -1.44495927e-02\n   4.17022929e-02 -5.51540740e-02 -1.63567048e-02  3.46402079e-02\n  -4.57401313e-02  4.50432897e-02 -3.69412601e-02 -3.48358452e-02\n  -3.44209373e-02  2.52061840e-02 -2.19985098e-02 -6.09562919e-02\n   2.04792991e-02 -5.59101291e-02  1.10743975e-03  2.06324458e-02\n  -8.45178589e-03  1.04680248e-02 -2.36882940e-02  2.44781990e-02\n   2.03042869e-02 -3.09800003e-02  9.74889100e-02  8.78435820e-02\n   1.24226026e-01 -8.36046711e-02  9.37624499e-02  4.75978144e-02\n  -2.14208551e-02 -1.16294041e-01 -2.20044553e-02  9.04165283e-02\n   5.93727268e-03  5.20545803e-02 -7.36097321e-02 -9.77765098e-02\n  -3.89405973e-02  8.47790167e-02  7.40468204e-02  3.00881099e-02\n   2.60602087e-02 -1.41246803e-02 -6.22970331e-03 -3.52067947e-02\n   9.15673897e-02 -8.31442922e-02  5.95028773e-02 -1.16524234e-01\n  -4.34697270e-02 -4.56015132e-02  9.33524454e-04  2.59083770e-02\n  -2.76616327e-02  4.81830575e-02  4.10955548e-02  1.26160961e-02\n   7.68918097e-02  7.32263923e-02  2.16260385e-02 -2.40832623e-02\n   6.13304637e-02 -1.12139825e-02  4.43238989e-02 -4.31324467e-02\n  -2.70057768e-02  2.57412368e-03 -2.47835163e-02 -2.38734856e-03\n   1.22090466e-02  7.81681836e-02  9.59556475e-02 -5.01037505e-08\n   2.89296615e-03 -5.87441437e-02 -2.02648602e-02  7.84150884e-03\n   2.81743780e-02  3.59926894e-02  7.20306635e-02 -1.74154118e-02\n  -2.84931413e-03  8.44859928e-02  6.68224320e-02 -1.43912118e-02\n  -5.33948280e-02  3.94593477e-02 -8.77018347e-02 -1.15572512e-02\n  -6.43985122e-02 -9.33334231e-03 -2.66509075e-02 -6.92725703e-02\n   4.41393889e-02  3.72826979e-02 -2.67875772e-02 -8.25318843e-02\n   2.55209692e-02  4.56058756e-02 -3.12305950e-02  3.46866297e-03\n  -3.58607285e-02  6.97823241e-02 -1.14548840e-02 -4.78280336e-02\n   3.10196318e-02 -4.74245846e-02 -3.83881554e-02  7.57393017e-02\n   5.48894145e-02  5.97896315e-02  9.71512403e-03  3.73498835e-02\n  -5.49050979e-02 -5.57114780e-02  2.54593119e-02  5.11746891e-02\n  -3.46250944e-02  1.99659374e-02 -4.84077334e-02 -6.11706488e-02\n   1.04845483e-02 -8.40777308e-02 -6.90499619e-02 -4.07111272e-02\n   2.02349834e-02 -5.51054180e-02 -4.72196341e-02  9.12209451e-02\n  -1.26936704e-01 -2.71453010e-03 -5.30301817e-02 -7.13059679e-02\n   1.30477667e-01 -4.84287404e-02 -2.18903832e-02  5.68840168e-02]]",
     "output_type": "error",
     "traceback": [
      "\u001b[1;31m---------------------------------------------------------------------------\u001b[0m",
      "\u001b[1;31mValueError\u001b[0m                                Traceback (most recent call last)",
      "Cell \u001b[1;32mIn[27], line 3\u001b[0m\n\u001b[0;32m      1\u001b[0m \u001b[38;5;66;03m# Example usage:\u001b[39;00m\n\u001b[0;32m      2\u001b[0m \u001b[38;5;66;03m# Add a PDF to the database\u001b[39;00m\n\u001b[1;32m----> 3\u001b[0m pdf_id_1 \u001b[38;5;241m=\u001b[39m \u001b[43madd_pdf_to_database\u001b[49m\u001b[43m(\u001b[49m\u001b[38;5;124;43m\"\u001b[39;49m\u001b[38;5;124;43m./data/Finance_Project.pdf\u001b[39;49m\u001b[38;5;124;43m\"\u001b[39;49m\u001b[43m)\u001b[49m\n\u001b[0;32m      5\u001b[0m \u001b[38;5;66;03m# Add another PDF to the database\u001b[39;00m\n\u001b[0;32m      6\u001b[0m pdf_id_2 \u001b[38;5;241m=\u001b[39m add_pdf_to_database(\u001b[38;5;124m\"\u001b[39m\u001b[38;5;124m./data/Resume.pdf\u001b[39m\u001b[38;5;124m\"\u001b[39m)\n",
      "Cell \u001b[1;32mIn[26], line 46\u001b[0m, in \u001b[0;36madd_pdf_to_database\u001b[1;34m(file_path)\u001b[0m\n\u001b[0;32m     43\u001b[0m pdf_id \u001b[38;5;241m=\u001b[39m \u001b[38;5;28mstr\u001b[39m(uuid\u001b[38;5;241m.\u001b[39muuid4())\n\u001b[0;32m     45\u001b[0m \u001b[38;5;66;03m# Add the document to the collection\u001b[39;00m\n\u001b[1;32m---> 46\u001b[0m \u001b[43mcollection\u001b[49m\u001b[38;5;241;43m.\u001b[39;49m\u001b[43madd\u001b[49m\u001b[43m(\u001b[49m\n\u001b[0;32m     47\u001b[0m \u001b[43m    \u001b[49m\u001b[43mdocuments\u001b[49m\u001b[38;5;241;43m=\u001b[39;49m\u001b[43m[\u001b[49m\u001b[43mcontent\u001b[49m\u001b[43m]\u001b[49m\u001b[43m,\u001b[49m\n\u001b[0;32m     48\u001b[0m \u001b[43m    \u001b[49m\u001b[43membeddings\u001b[49m\u001b[38;5;241;43m=\u001b[39;49m\u001b[43m[\u001b[49m\u001b[43membed\u001b[49m\u001b[43m(\u001b[49m\u001b[43mcontent\u001b[49m\u001b[43m)\u001b[49m\u001b[43m]\u001b[49m\u001b[43m,\u001b[49m\n\u001b[0;32m     49\u001b[0m \u001b[43m    \u001b[49m\u001b[43mmetadatas\u001b[49m\u001b[38;5;241;43m=\u001b[39;49m\u001b[43m[\u001b[49m\u001b[43m{\u001b[49m\u001b[38;5;124;43m\"\u001b[39;49m\u001b[38;5;124;43msource\u001b[39;49m\u001b[38;5;124;43m\"\u001b[39;49m\u001b[43m:\u001b[49m\u001b[43m \u001b[49m\u001b[43mfile_path\u001b[49m\u001b[43m}\u001b[49m\u001b[43m]\u001b[49m\u001b[43m,\u001b[49m\n\u001b[0;32m     50\u001b[0m \u001b[43m    \u001b[49m\u001b[43mids\u001b[49m\u001b[38;5;241;43m=\u001b[39;49m\u001b[43m[\u001b[49m\u001b[43mpdf_id\u001b[49m\u001b[43m]\u001b[49m\n\u001b[0;32m     51\u001b[0m \u001b[43m\u001b[49m\u001b[43m)\u001b[49m\n\u001b[0;32m     53\u001b[0m \u001b[38;5;28mprint\u001b[39m(\u001b[38;5;124mf\u001b[39m\u001b[38;5;124m\"\u001b[39m\u001b[38;5;124mAdded PDF with ID: \u001b[39m\u001b[38;5;132;01m{\u001b[39;00mpdf_id\u001b[38;5;132;01m}\u001b[39;00m\u001b[38;5;124m\"\u001b[39m)\n\u001b[0;32m     54\u001b[0m \u001b[38;5;28;01mreturn\u001b[39;00m pdf_id\n",
      "File \u001b[1;32me:\\Hackathons\\IEEE\\venv\\Lib\\site-packages\\chromadb\\api\\models\\Collection.py:81\u001b[0m, in \u001b[0;36mCollection.add\u001b[1;34m(self, ids, embeddings, metadatas, documents, images, uris)\u001b[0m\n\u001b[0;32m     41\u001b[0m \u001b[38;5;28;01mdef\u001b[39;00m \u001b[38;5;21madd\u001b[39m(\n\u001b[0;32m     42\u001b[0m     \u001b[38;5;28mself\u001b[39m,\n\u001b[0;32m     43\u001b[0m     ids: OneOrMany[ID],\n\u001b[1;32m   (...)\u001b[0m\n\u001b[0;32m     53\u001b[0m     uris: Optional[OneOrMany[URI]] \u001b[38;5;241m=\u001b[39m \u001b[38;5;28;01mNone\u001b[39;00m,\n\u001b[0;32m     54\u001b[0m ) \u001b[38;5;241m-\u001b[39m\u001b[38;5;241m>\u001b[39m \u001b[38;5;28;01mNone\u001b[39;00m:\n\u001b[0;32m     55\u001b[0m \u001b[38;5;250m    \u001b[39m\u001b[38;5;124;03m\"\"\"Add embeddings to the data store.\u001b[39;00m\n\u001b[0;32m     56\u001b[0m \u001b[38;5;124;03m    Args:\u001b[39;00m\n\u001b[0;32m     57\u001b[0m \u001b[38;5;124;03m        ids: The ids of the embeddings you wish to add\u001b[39;00m\n\u001b[1;32m   (...)\u001b[0m\n\u001b[0;32m     73\u001b[0m \n\u001b[0;32m     74\u001b[0m \u001b[38;5;124;03m    \"\"\"\u001b[39;00m\n\u001b[0;32m     75\u001b[0m     (\n\u001b[0;32m     76\u001b[0m         ids,\n\u001b[0;32m     77\u001b[0m         embeddings,\n\u001b[0;32m     78\u001b[0m         metadatas,\n\u001b[0;32m     79\u001b[0m         documents,\n\u001b[0;32m     80\u001b[0m         uris,\n\u001b[1;32m---> 81\u001b[0m     ) \u001b[38;5;241m=\u001b[39m \u001b[38;5;28;43mself\u001b[39;49m\u001b[38;5;241;43m.\u001b[39;49m\u001b[43m_validate_and_prepare_embedding_set\u001b[49m\u001b[43m(\u001b[49m\n\u001b[0;32m     82\u001b[0m \u001b[43m        \u001b[49m\u001b[43mids\u001b[49m\u001b[43m,\u001b[49m\u001b[43m \u001b[49m\u001b[43membeddings\u001b[49m\u001b[43m,\u001b[49m\u001b[43m \u001b[49m\u001b[43mmetadatas\u001b[49m\u001b[43m,\u001b[49m\u001b[43m \u001b[49m\u001b[43mdocuments\u001b[49m\u001b[43m,\u001b[49m\u001b[43m \u001b[49m\u001b[43mimages\u001b[49m\u001b[43m,\u001b[49m\u001b[43m \u001b[49m\u001b[43muris\u001b[49m\n\u001b[0;32m     83\u001b[0m \u001b[43m    \u001b[49m\u001b[43m)\u001b[49m\n\u001b[0;32m     85\u001b[0m     \u001b[38;5;28mself\u001b[39m\u001b[38;5;241m.\u001b[39m_client\u001b[38;5;241m.\u001b[39m_add(ids, \u001b[38;5;28mself\u001b[39m\u001b[38;5;241m.\u001b[39mid, embeddings, metadatas, documents, uris)\n",
      "File \u001b[1;32me:\\Hackathons\\IEEE\\venv\\Lib\\site-packages\\chromadb\\api\\models\\CollectionCommon.py:272\u001b[0m, in \u001b[0;36mCollectionCommon._validate_and_prepare_embedding_set\u001b[1;34m(self, ids, embeddings, metadatas, documents, images, uris)\u001b[0m\n\u001b[0;32m    245\u001b[0m \u001b[38;5;28;01mdef\u001b[39;00m \u001b[38;5;21m_validate_and_prepare_embedding_set\u001b[39m(\n\u001b[0;32m    246\u001b[0m     \u001b[38;5;28mself\u001b[39m,\n\u001b[0;32m    247\u001b[0m     ids: OneOrMany[ID],\n\u001b[1;32m   (...)\u001b[0m\n\u001b[0;32m    263\u001b[0m     Optional[URIs],\n\u001b[0;32m    264\u001b[0m ]:\n\u001b[0;32m    265\u001b[0m     (\n\u001b[0;32m    266\u001b[0m         ids,\n\u001b[0;32m    267\u001b[0m         embeddings,\n\u001b[0;32m    268\u001b[0m         metadatas,\n\u001b[0;32m    269\u001b[0m         documents,\n\u001b[0;32m    270\u001b[0m         images,\n\u001b[0;32m    271\u001b[0m         uris,\n\u001b[1;32m--> 272\u001b[0m     ) \u001b[38;5;241m=\u001b[39m \u001b[38;5;28;43mself\u001b[39;49m\u001b[38;5;241;43m.\u001b[39;49m\u001b[43m_validate_embedding_set\u001b[49m\u001b[43m(\u001b[49m\n\u001b[0;32m    273\u001b[0m \u001b[43m        \u001b[49m\u001b[43mids\u001b[49m\u001b[43m,\u001b[49m\u001b[43m \u001b[49m\u001b[43membeddings\u001b[49m\u001b[43m,\u001b[49m\u001b[43m \u001b[49m\u001b[43mmetadatas\u001b[49m\u001b[43m,\u001b[49m\u001b[43m \u001b[49m\u001b[43mdocuments\u001b[49m\u001b[43m,\u001b[49m\u001b[43m \u001b[49m\u001b[43mimages\u001b[49m\u001b[43m,\u001b[49m\u001b[43m \u001b[49m\u001b[43muris\u001b[49m\n\u001b[0;32m    274\u001b[0m \u001b[43m    \u001b[49m\u001b[43m)\u001b[49m\n\u001b[0;32m    276\u001b[0m     \u001b[38;5;66;03m# We need to compute the embeddings if they're not provided\u001b[39;00m\n\u001b[0;32m    277\u001b[0m     \u001b[38;5;28;01mif\u001b[39;00m embeddings \u001b[38;5;129;01mis\u001b[39;00m \u001b[38;5;28;01mNone\u001b[39;00m:\n\u001b[0;32m    278\u001b[0m         \u001b[38;5;66;03m# At this point, we know that one of documents or images are provided from the validation above\u001b[39;00m\n",
      "File \u001b[1;32me:\\Hackathons\\IEEE\\venv\\Lib\\site-packages\\chromadb\\api\\models\\CollectionCommon.py:176\u001b[0m, in \u001b[0;36mCollectionCommon._validate_embedding_set\u001b[1;34m(self, ids, embeddings, metadatas, documents, images, uris, require_embeddings_or_data)\u001b[0m\n\u001b[0;32m    152\u001b[0m \u001b[38;5;28;01mdef\u001b[39;00m \u001b[38;5;21m_validate_embedding_set\u001b[39m(\n\u001b[0;32m    153\u001b[0m     \u001b[38;5;28mself\u001b[39m,\n\u001b[0;32m    154\u001b[0m     ids: OneOrMany[ID],\n\u001b[1;32m   (...)\u001b[0m\n\u001b[0;32m    172\u001b[0m     Optional[URIs],\n\u001b[0;32m    173\u001b[0m ]:\n\u001b[0;32m    174\u001b[0m     valid_ids \u001b[38;5;241m=\u001b[39m validate_ids(maybe_cast_one_to_many_ids(ids))\n\u001b[0;32m    175\u001b[0m     valid_embeddings \u001b[38;5;241m=\u001b[39m (\n\u001b[1;32m--> 176\u001b[0m         \u001b[43mvalidate_embeddings\u001b[49m\u001b[43m(\u001b[49m\n\u001b[0;32m    177\u001b[0m \u001b[43m            \u001b[49m\u001b[38;5;28;43mself\u001b[39;49m\u001b[38;5;241;43m.\u001b[39;49m\u001b[43m_normalize_embeddings\u001b[49m\u001b[43m(\u001b[49m\u001b[43mmaybe_cast_one_to_many_embedding\u001b[49m\u001b[43m(\u001b[49m\u001b[43membeddings\u001b[49m\u001b[43m)\u001b[49m\u001b[43m)\u001b[49m\n\u001b[0;32m    178\u001b[0m \u001b[43m        \u001b[49m\u001b[43m)\u001b[49m\n\u001b[0;32m    179\u001b[0m         \u001b[38;5;28;01mif\u001b[39;00m embeddings \u001b[38;5;129;01mis\u001b[39;00m \u001b[38;5;129;01mnot\u001b[39;00m \u001b[38;5;28;01mNone\u001b[39;00m\n\u001b[0;32m    180\u001b[0m         \u001b[38;5;28;01melse\u001b[39;00m \u001b[38;5;28;01mNone\u001b[39;00m\n\u001b[0;32m    181\u001b[0m     )\n\u001b[0;32m    182\u001b[0m     valid_metadatas \u001b[38;5;241m=\u001b[39m (\n\u001b[0;32m    183\u001b[0m         validate_metadatas(maybe_cast_one_to_many_metadata(metadatas))\n\u001b[0;32m    184\u001b[0m         \u001b[38;5;28;01mif\u001b[39;00m metadatas \u001b[38;5;129;01mis\u001b[39;00m \u001b[38;5;129;01mnot\u001b[39;00m \u001b[38;5;28;01mNone\u001b[39;00m\n\u001b[0;32m    185\u001b[0m         \u001b[38;5;28;01melse\u001b[39;00m \u001b[38;5;28;01mNone\u001b[39;00m\n\u001b[0;32m    186\u001b[0m     )\n\u001b[0;32m    187\u001b[0m     valid_documents \u001b[38;5;241m=\u001b[39m (\n\u001b[0;32m    188\u001b[0m         maybe_cast_one_to_many_document(documents)\n\u001b[0;32m    189\u001b[0m         \u001b[38;5;28;01mif\u001b[39;00m documents \u001b[38;5;129;01mis\u001b[39;00m \u001b[38;5;129;01mnot\u001b[39;00m \u001b[38;5;28;01mNone\u001b[39;00m\n\u001b[0;32m    190\u001b[0m         \u001b[38;5;28;01melse\u001b[39;00m \u001b[38;5;28;01mNone\u001b[39;00m\n\u001b[0;32m    191\u001b[0m     )\n",
      "File \u001b[1;32me:\\Hackathons\\IEEE\\venv\\Lib\\site-packages\\chromadb\\api\\types.py:553\u001b[0m, in \u001b[0;36mvalidate_embeddings\u001b[1;34m(embeddings)\u001b[0m\n\u001b[0;32m    543\u001b[0m         \u001b[38;5;28;01mraise\u001b[39;00m \u001b[38;5;167;01mValueError\u001b[39;00m(\n\u001b[0;32m    544\u001b[0m             \u001b[38;5;124mf\u001b[39m\u001b[38;5;124m\"\u001b[39m\u001b[38;5;124mExpected each embedding in the embeddings to be a 1-dimensional numpy array with at least 1 int/float value. Got a 1-dimensional numpy array with no values at pos \u001b[39m\u001b[38;5;132;01m{\u001b[39;00mi\u001b[38;5;132;01m}\u001b[39;00m\u001b[38;5;124m\"\u001b[39m\n\u001b[0;32m    545\u001b[0m         )\n\u001b[0;32m    546\u001b[0m     \u001b[38;5;28;01mif\u001b[39;00m \u001b[38;5;129;01mnot\u001b[39;00m \u001b[38;5;28mall\u001b[39m(\n\u001b[0;32m    547\u001b[0m         [\n\u001b[0;32m    548\u001b[0m             \u001b[38;5;28misinstance\u001b[39m(value, (np\u001b[38;5;241m.\u001b[39minteger, \u001b[38;5;28mfloat\u001b[39m, np\u001b[38;5;241m.\u001b[39mfloating))\n\u001b[1;32m   (...)\u001b[0m\n\u001b[0;32m    551\u001b[0m         ]\n\u001b[0;32m    552\u001b[0m     ):\n\u001b[1;32m--> 553\u001b[0m         \u001b[38;5;28;01mraise\u001b[39;00m \u001b[38;5;167;01mValueError\u001b[39;00m(\n\u001b[0;32m    554\u001b[0m             \u001b[38;5;124m\"\u001b[39m\u001b[38;5;124mExpected each value in the embedding to be a int or float, got an embedding with \u001b[39m\u001b[38;5;124m\"\u001b[39m\n\u001b[0;32m    555\u001b[0m             \u001b[38;5;124mf\u001b[39m\u001b[38;5;124m\"\u001b[39m\u001b[38;5;132;01m{\u001b[39;00m\u001b[38;5;28mlist\u001b[39m(\u001b[38;5;28mset\u001b[39m([\u001b[38;5;28mtype\u001b[39m(value)\u001b[38;5;241m.\u001b[39m\u001b[38;5;18m__name__\u001b[39m\u001b[38;5;250m \u001b[39m\u001b[38;5;28;01mfor\u001b[39;00m\u001b[38;5;250m \u001b[39mvalue\u001b[38;5;250m \u001b[39m\u001b[38;5;129;01min\u001b[39;00m\u001b[38;5;250m \u001b[39membedding]))\u001b[38;5;132;01m}\u001b[39;00m\u001b[38;5;124m - \u001b[39m\u001b[38;5;132;01m{\u001b[39;00membedding\u001b[38;5;132;01m}\u001b[39;00m\u001b[38;5;124m\"\u001b[39m\n\u001b[0;32m    556\u001b[0m         )\n\u001b[0;32m    557\u001b[0m \u001b[38;5;28;01mreturn\u001b[39;00m embeddings\n",
      "\u001b[1;31mValueError\u001b[0m: Expected each value in the embedding to be a int or float, got an embedding with ['ndarray'] - [[-2.49327663e-02  3.98689769e-02 -8.89069736e-02 -5.26046287e-03\n  -4.12245356e-02 -2.17040963e-02 -1.25562120e-02  7.27673667e-03\n  -1.68624111e-02 -1.56573933e-02  1.54429264e-02 -8.12266544e-02\n  -1.84264046e-03 -9.36593488e-03  5.11218756e-02 -3.39858495e-02\n   1.65007096e-02  8.88847932e-03 -2.94668525e-02 -1.45236328e-02\n  -1.34900529e-02 -1.78603958e-02  1.52437075e-03 -5.39461896e-02\n  -2.03830656e-03  1.10211093e-02  6.51584789e-02 -3.95703036e-03\n  -6.70144111e-02  8.56862590e-03  1.59778874e-02  4.53001037e-02\n   8.31174850e-03 -2.18393356e-02 -2.20105164e-02 -7.95699842e-03\n  -1.24563370e-02  4.09440026e-02  5.15416898e-02 -5.07450067e-02\n   3.79066020e-02 -1.26179010e-01 -2.51867287e-02 -7.81040043e-02\n  -2.09003910e-02 -5.28967343e-02  1.73681248e-02 -4.82525639e-02\n  -5.50431758e-02 -2.78374553e-02 -2.34020445e-02  2.06812490e-02\n  -3.12880799e-02  3.46634015e-02 -3.13278697e-02 -1.40555769e-01\n  -9.37574804e-02 -4.83749248e-02  5.41839898e-02  3.32378335e-02\n   3.23783830e-02  1.22009173e-01 -5.92268780e-02  5.86381406e-02\n   9.52890813e-02 -4.95915636e-02  7.36144111e-02 -4.27878313e-02\n   8.19752552e-03  1.94772705e-02  8.44704285e-02 -6.36550263e-02\n  -1.61783155e-02 -7.61857480e-02 -7.55881742e-02 -5.43673784e-02\n   2.26538572e-02 -4.89172824e-02 -5.99774346e-03 -8.24186429e-02\n   4.35658768e-02 -4.54075783e-02  5.55367731e-02 -2.13755220e-02\n  -3.30105424e-02  5.68814634e-04  6.30266294e-02 -3.33183333e-02\n  -2.29093768e-02 -5.39030368e-03  1.45173058e-01  3.99664640e-02\n   1.43060554e-02  1.48465494e-02  7.80678391e-02  2.16523297e-02\n  -1.37436865e-02 -3.09018791e-02 -1.04650315e-02  7.07477378e-03\n   2.37431214e-03  4.95415851e-02 -7.54229948e-02 -4.66071768e-03\n  -6.06759451e-02 -3.10584009e-02 -3.61610502e-02  1.23070478e-02\n  -4.15589362e-02  9.42710601e-03 -3.37637775e-02  4.09794338e-02\n  -1.08859010e-01 -8.91555846e-02 -2.01855204e-03  9.22504589e-02\n  -8.06908607e-02  1.12644732e-02 -3.61864977e-02  5.55203110e-02\n   3.78610194e-02  3.64426449e-02 -1.83377899e-02  1.01586618e-01\n   1.24947680e-02 -7.43340403e-02  2.26062611e-02 -1.99536742e-32\n  -1.13522545e-01 -5.91968745e-02  1.91786513e-02 -4.73508835e-02\n  -5.02110943e-02  4.15184796e-02 -7.96240405e-04 -5.10467663e-02\n  -3.90068702e-02 -5.48043586e-02 -1.03863170e-02 -3.13026309e-02\n  -7.75966141e-03  4.99561243e-02 -2.72210818e-02 -8.07186812e-02\n   3.15509439e-02 -4.10605483e-02  2.97993124e-02 -7.00951591e-02\n   4.18651365e-02  1.79608036e-02  5.69486432e-02 -1.23458300e-02\n  -3.92234791e-03  5.64023927e-02  8.94471183e-02  2.37243082e-02\n   8.64426047e-03  2.27365978e-02  4.95693125e-02  4.92391400e-02\n  -6.33409098e-02 -4.84543592e-02 -4.83530127e-02  2.75512226e-02\n   4.68773767e-02 -6.81954622e-02 -5.78255914e-02 -2.76274830e-02\n   4.21477854e-03  6.12323806e-02 -1.85390934e-02 -5.05200066e-02\n  -2.15273891e-02  5.59984297e-02 -7.50940964e-02 -1.98155921e-02\n   2.41100211e-02  2.77002808e-02 -9.37054828e-02 -9.01940931e-03\n  -4.57894541e-02 -6.88480735e-02  3.02771144e-02 -4.94107492e-02\n  -3.08321528e-02 -9.19349939e-02 -4.28457335e-02  5.23215570e-02\n  -6.57726675e-02 -2.93319430e-02 -6.94574863e-02 -1.54418200e-02\n  -7.85542876e-02  8.44430178e-02 -5.23604220e-03 -4.98702079e-02\n  -1.28523394e-01  6.44305572e-02 -5.85384332e-02 -1.68792345e-02\n   1.51877375e-02  2.35627759e-02 -1.52037693e-02  7.45759159e-03\n   1.39451874e-02  6.67800605e-02  5.94842471e-02  1.09215965e-02\n   4.04571071e-02 -2.89287567e-02  1.03152804e-01 -4.87706400e-02\n  -3.25752310e-02  5.51977642e-02 -6.25714213e-02 -6.31866306e-02\n   2.06958130e-02  2.56816000e-02  1.65355057e-02 -2.52925418e-02\n   4.53066155e-02  1.00302920e-02 -9.35146213e-03  7.77986830e-33\n  -2.96585057e-02  1.20878397e-02 -9.77323800e-02  1.84350722e-02\n   2.11954992e-02  3.07886694e-02 -7.29169846e-02 -5.16034197e-03\n  -3.44309695e-02  7.62349963e-02  3.09664384e-02  6.03970746e-03\n   2.66771298e-03 -2.31646448e-02  2.08308417e-02 -3.50970514e-02\n   9.44541842e-02  4.04444858e-02 -3.36987115e-02 -3.87090668e-02\n  -3.48137356e-02  7.48839006e-02 -5.97170405e-02 -1.44495927e-02\n   4.17022929e-02 -5.51540740e-02 -1.63567048e-02  3.46402079e-02\n  -4.57401313e-02  4.50432897e-02 -3.69412601e-02 -3.48358452e-02\n  -3.44209373e-02  2.52061840e-02 -2.19985098e-02 -6.09562919e-02\n   2.04792991e-02 -5.59101291e-02  1.10743975e-03  2.06324458e-02\n  -8.45178589e-03  1.04680248e-02 -2.36882940e-02  2.44781990e-02\n   2.03042869e-02 -3.09800003e-02  9.74889100e-02  8.78435820e-02\n   1.24226026e-01 -8.36046711e-02  9.37624499e-02  4.75978144e-02\n  -2.14208551e-02 -1.16294041e-01 -2.20044553e-02  9.04165283e-02\n   5.93727268e-03  5.20545803e-02 -7.36097321e-02 -9.77765098e-02\n  -3.89405973e-02  8.47790167e-02  7.40468204e-02  3.00881099e-02\n   2.60602087e-02 -1.41246803e-02 -6.22970331e-03 -3.52067947e-02\n   9.15673897e-02 -8.31442922e-02  5.95028773e-02 -1.16524234e-01\n  -4.34697270e-02 -4.56015132e-02  9.33524454e-04  2.59083770e-02\n  -2.76616327e-02  4.81830575e-02  4.10955548e-02  1.26160961e-02\n   7.68918097e-02  7.32263923e-02  2.16260385e-02 -2.40832623e-02\n   6.13304637e-02 -1.12139825e-02  4.43238989e-02 -4.31324467e-02\n  -2.70057768e-02  2.57412368e-03 -2.47835163e-02 -2.38734856e-03\n   1.22090466e-02  7.81681836e-02  9.59556475e-02 -5.01037505e-08\n   2.89296615e-03 -5.87441437e-02 -2.02648602e-02  7.84150884e-03\n   2.81743780e-02  3.59926894e-02  7.20306635e-02 -1.74154118e-02\n  -2.84931413e-03  8.44859928e-02  6.68224320e-02 -1.43912118e-02\n  -5.33948280e-02  3.94593477e-02 -8.77018347e-02 -1.15572512e-02\n  -6.43985122e-02 -9.33334231e-03 -2.66509075e-02 -6.92725703e-02\n   4.41393889e-02  3.72826979e-02 -2.67875772e-02 -8.25318843e-02\n   2.55209692e-02  4.56058756e-02 -3.12305950e-02  3.46866297e-03\n  -3.58607285e-02  6.97823241e-02 -1.14548840e-02 -4.78280336e-02\n   3.10196318e-02 -4.74245846e-02 -3.83881554e-02  7.57393017e-02\n   5.48894145e-02  5.97896315e-02  9.71512403e-03  3.73498835e-02\n  -5.49050979e-02 -5.57114780e-02  2.54593119e-02  5.11746891e-02\n  -3.46250944e-02  1.99659374e-02 -4.84077334e-02 -6.11706488e-02\n   1.04845483e-02 -8.40777308e-02 -6.90499619e-02 -4.07111272e-02\n   2.02349834e-02 -5.51054180e-02 -4.72196341e-02  9.12209451e-02\n  -1.26936704e-01 -2.71453010e-03 -5.30301817e-02 -7.13059679e-02\n   1.30477667e-01 -4.84287404e-02 -2.18903832e-02  5.68840168e-02]]"
     ]
    }
   ],
   "source": [
    "# Example usage:\n",
    "# Add a PDF to the database\n",
    "pdf_id_1 = add_pdf_to_database(\"./data/Finance_Project.pdf\")\n",
    "\n",
    "# Add another PDF to the database\n",
    "pdf_id_2 = add_pdf_to_database(\"./data/Resume.pdf\")"
   ]
  },
  {
   "cell_type": "code",
   "execution_count": 10,
   "metadata": {},
   "outputs": [
    {
     "name": "stdout",
     "output_type": "stream",
     "text": [
      "No matching content found for the given PDF ID.\n"
     ]
    }
   ],
   "source": [
    "# Query a specific PDF\n",
    "user_query = \"What is the main topic of this PDF?\"\n",
    "result = query_pdf(user_query, pdf_id_1)\n",
    "print(result)"
   ]
  },
  {
   "cell_type": "code",
   "execution_count": 11,
   "metadata": {},
   "outputs": [
    {
     "name": "stdout",
     "output_type": "stream",
     "text": [
      "ID: 4ac1d6ff-5b39-488b-9f4e-a397c025d6e8, Source: ./data/Finance_Project.pdf\n",
      "ID: 6b571885-1bf9-44f9-9d70-28a34bd026a8, Source: ./data/Resume.pdf\n"
     ]
    }
   ],
   "source": [
    "all_docs = collection.get()\n",
    "for doc_id, metadata in zip(all_docs['ids'], all_docs['metadatas']):\n",
    "    print(f\"ID: {doc_id}, Source: {metadata['source']}\")"
   ]
  },
  {
   "cell_type": "code",
   "execution_count": 14,
   "metadata": {},
   "outputs": [
    {
     "name": "stdout",
     "output_type": "stream",
     "text": [
      "No embeddings found for doc_id '4ac1d6ff-5b39-488b-9f4e-a397c025d6e8'\n"
     ]
    }
   ],
   "source": [
    "def get_pdf_embeddings(doc_id):\n",
    "    result = collection.get(ids=[doc_id])\n",
    "    if result[\"embeddings\"]:\n",
    "        print(f\"Embeddings for doc_id '{doc_id}' retrieved successfully!\")\n",
    "        return result[\"embeddings\"][0]\n",
    "    else:\n",
    "        print(f\"No embeddings found for doc_id '{doc_id}'\")\n",
    "        return None\n",
    "get_pdf_embeddings(pdf_id_1)"
   ]
  },
  {
   "cell_type": "code",
   "execution_count": 22,
   "metadata": {},
   "outputs": [
    {
     "name": "stdout",
     "output_type": "stream",
     "text": [
      "Added PDF with ID: fd1fb312-0e2c-4076-a381-97d6be6c7967\n",
      "Added PDF with ID: 512885ed-2fda-4b65-b5c8-46929dae2f8e\n",
      "\n",
      "Embeddings in the database:\n",
      "Error retrieving embeddings: 'NoneType' object is not iterable\n",
      "Query results: {'ids': [[]], 'embeddings': None, 'documents': [[]], 'uris': None, 'data': None, 'metadatas': [[]], 'distances': [[]], 'included': [<IncludeEnum.distances: 'distances'>, <IncludeEnum.documents: 'documents'>, <IncludeEnum.metadatas: 'metadatas'>]}\n",
      "Query result: No matching content found for the given PDF ID.\n",
      "\n",
      "All documents in the collection:\n",
      "ID: fd1fb312-0e2c-4076-a381-97d6be6c7967, Source: data/Finance_Project.pdf\n",
      "ID: 512885ed-2fda-4b65-b5c8-46929dae2f8e, Source: data/Resume.pdf\n"
     ]
    }
   ],
   "source": [
    "from pypdf import PdfReader\n",
    "import chromadb\n",
    "from chromadb.utils import embedding_functions\n",
    "import uuid\n",
    "import numpy as np\n",
    "\n",
    "# Initialize Chroma client\n",
    "client = chromadb.Client()\n",
    "\n",
    "# Create a collection\n",
    "collection = client.create_collection(\"pdf_collection4\")\n",
    "\n",
    "# Initialize the embedding function\n",
    "embedding_function = embedding_functions.SentenceTransformerEmbeddingFunction(model_name=\"all-MiniLM-L6-v2\")\n",
    "\n",
    "def read_pdf(pdf_path):\n",
    "    # Create a PdfReader object\n",
    "    reader = PdfReader(pdf_path)\n",
    "\n",
    "    # Initialize a string to hold all the extracted text\n",
    "    extracted_text = \"\"\n",
    "\n",
    "    # Loop through each page and extract text\n",
    "    for page in reader.pages:\n",
    "        extracted_text += page.extract_text()\n",
    "\n",
    "    # Print the extracted text\n",
    "    # with open('extracted_text.txt', 'w') as text_file:\n",
    "        # text_file.write(extracted_text)\n",
    "\n",
    "    return extracted_text\n",
    "\n",
    "def add_pdf_to_database(file_path):\n",
    "    # Read PDF content\n",
    "    content = read_pdf(file_path)\n",
    "    \n",
    "    if content is None:\n",
    "        print(f\"Failed to add PDF: {file_path}\")\n",
    "        return None\n",
    "    \n",
    "    # Generate a unique ID for this PDF\n",
    "    pdf_id = str(uuid.uuid4())\n",
    "    \n",
    "    try:\n",
    "        \n",
    "        embedding = embedding_function([content])[0]\n",
    "        \n",
    "        # Add the document to the collection with the explicit embedding\n",
    "        collection.add(\n",
    "            documents=[content],\n",
    "            embeddings=[embedding],\n",
    "            metadatas=[{\"source\": file_path}],\n",
    "            ids=[pdf_id]\n",
    "        )\n",
    "\n",
    "        print(f\"Added PDF with ID: {pdf_id}\")\n",
    "        return pdf_id\n",
    "    except Exception as e:\n",
    "        print(f\"Error adding PDF to database: {str(e)}\")\n",
    "        return None\n",
    "\n",
    "def query_pdf(query, pdf_id):\n",
    "    try:\n",
    "        # Query the collection\n",
    "        results = collection.query(\n",
    "            query_texts=[query],\n",
    "            n_results=1,\n",
    "            where={\"$id\": pdf_id}\n",
    "        )\n",
    "        \n",
    "        print(f\"Query results: {results}\")  # Print full results for debugging\n",
    "        \n",
    "        if results['documents'][0]:\n",
    "            return results['documents'][0][0]\n",
    "        else:\n",
    "            return \"No matching content found for the given PDF ID.\"\n",
    "    except Exception as e:\n",
    "        print(f\"Error querying PDF: {str(e)}\")\n",
    "        return f\"Error occurred while querying: {str(e)}\"\n",
    "\n",
    "def print_embeddings():\n",
    "    try:\n",
    "        # Get all items from the collection\n",
    "        all_items = collection.get()\n",
    "        \n",
    "        print(\"\\nEmbeddings in the database:\")\n",
    "        for doc_id, embedding in zip(all_items['ids'], all_items['embeddings']):\n",
    "            print(f\"Document ID: {doc_id}\")\n",
    "            print(f\"Embedding shape: {np.array(embedding).shape}\")\n",
    "            print(f\"Embedding preview: {embedding[:5]}...\")  # Print first 5 values\n",
    "            print(\"---\")\n",
    "    except Exception as e:\n",
    "        print(f\"Error retrieving embeddings: {str(e)}\")\n",
    "\n",
    "# Example usage:\n",
    "# Add PDFs to the database\n",
    "pdf_id_1 = add_pdf_to_database(\"data/Finance_Project.pdf\")\n",
    "pdf_id_2 = add_pdf_to_database(\"data/Resume.pdf\")\n",
    "\n",
    "if pdf_id_1 and pdf_id_2:\n",
    "    # Print embeddings\n",
    "    print_embeddings()\n",
    "\n",
    "    # Query a specific PDF\n",
    "    user_query = \"What is the main topic of this PDF?\"\n",
    "    result = query_pdf(user_query, pdf_id_1)\n",
    "    print(\"Query result:\", result)\n",
    "\n",
    "    # List all documents in the collection\n",
    "    print(\"\\nAll documents in the collection:\")\n",
    "    all_docs = collection.get()\n",
    "    for doc_id, metadata in zip(all_docs['ids'], all_docs['metadatas']):\n",
    "        print(f\"ID: {doc_id}, Source: {metadata['source']}\")\n",
    "else:\n",
    "    print(\"Failed to add one or both PDFs to the database.\")"
   ]
  },
  {
   "cell_type": "code",
   "execution_count": 15,
   "metadata": {},
   "outputs": [],
   "source": [
    "def print_embeddings():\n",
    "    try:\n",
    "        # Get all items from the collection\n",
    "        all_items = collection.get()\n",
    "        \n",
    "        print(\"\\nEmbeddings in the database:\")\n",
    "        for doc_id, embedding in zip(all_items['ids'], all_items['embeddings']):\n",
    "            print(f\"Document ID: {doc_id}\")\n",
    "            print(f\"Embedding shape: {np.array(embedding).shape}\")\n",
    "            print(f\"Embedding preview: {embedding[:5]}...\")  # Print first 5 values\n",
    "            print(\"---\")\n",
    "    except Exception as e:\n",
    "        print(f\"Error retrieving embeddings: {str(e)}\")"
   ]
  },
  {
   "cell_type": "code",
   "execution_count": 16,
   "metadata": {},
   "outputs": [
    {
     "name": "stdout",
     "output_type": "stream",
     "text": [
      "\n",
      "Embeddings in the database:\n",
      "Error retrieving embeddings: 'NoneType' object is not iterable\n"
     ]
    }
   ],
   "source": [
    "print_embeddings()"
   ]
  },
  {
   "cell_type": "code",
   "execution_count": 17,
   "metadata": {},
   "outputs": [],
   "source": [
    "def print_embeddings():\n",
    "    try:\n",
    "        # Get all items from the collection\n",
    "        all_items = collection.get()\n",
    "        \n",
    "        if all_items is None:\n",
    "            print(\"Error: collection.get() returned None\")\n",
    "            return\n",
    "        \n",
    "        if not all_items['ids']:\n",
    "            print(\"The collection is empty. No embeddings to display.\")\n",
    "            return\n",
    "        \n",
    "        print(\"\\nEmbeddings in the database:\")\n",
    "        for doc_id, embedding in zip(all_items['ids'], all_items['embeddings']):\n",
    "            print(f\"Document ID: {doc_id}\")\n",
    "            if embedding is None:\n",
    "                print(\"  Warning: Embedding is None for this document\")\n",
    "            else:\n",
    "                print(f\"  Embedding shape: {np.array(embedding).shape}\")\n",
    "                print(f\"  Embedding preview: {embedding[:5]}...\")  # Print first 5 values\n",
    "            print(\"---\")\n",
    "    except Exception as e:\n",
    "        print(f\"Error retrieving embeddings: {str(e)}\")\n",
    "        print(f\"all_items structure: {all_items}\")  # Print the structure of all_items"
   ]
  },
  {
   "cell_type": "code",
   "execution_count": 28,
   "metadata": {},
   "outputs": [
    {
     "name": "stdout",
     "output_type": "stream",
     "text": [
      "\n",
      "Embeddings in the database:\n",
      "Error retrieving embeddings: 'NoneType' object is not iterable\n",
      "Query result: No matching content found for the given PDF ID.\n",
      "\n",
      "All documents in the collection:\n",
      "No documents found in the collection.\n"
     ]
    }
   ],
   "source": [
    "if pdf_id_1 and pdf_id_2:\n",
    "    # Print embeddings\n",
    "    print_embeddings()\n",
    "\n",
    "    # Query a specific PDF\n",
    "    user_query = \"What is the main topic of this PDF?\"\n",
    "    result = query_pdf(user_query, pdf_id_1)\n",
    "    print(\"Query result:\", result)\n",
    "\n",
    "    # List all documents in the collection\n",
    "    print(\"\\nAll documents in the collection:\")\n",
    "    all_docs = collection.get()\n",
    "    if all_docs and all_docs['ids']:\n",
    "        for doc_id, metadata in zip(all_docs['ids'], all_docs['metadatas']):\n",
    "            print(f\"ID: {doc_id}, Source: {metadata['source']}\")\n",
    "    else:\n",
    "        print(\"No documents found in the collection.\")\n",
    "else:\n",
    "    print(\"Failed to add one or both PDFs to the database.\")"
   ]
  },
  {
   "cell_type": "code",
   "execution_count": null,
   "metadata": {},
   "outputs": [],
   "source": []
  }
 ],
 "metadata": {
  "kernelspec": {
   "display_name": "venv",
   "language": "python",
   "name": "python3"
  },
  "language_info": {
   "codemirror_mode": {
    "name": "ipython",
    "version": 3
   },
   "file_extension": ".py",
   "mimetype": "text/x-python",
   "name": "python",
   "nbconvert_exporter": "python",
   "pygments_lexer": "ipython3",
   "version": "3.12.4"
  }
 },
 "nbformat": 4,
 "nbformat_minor": 2
}
